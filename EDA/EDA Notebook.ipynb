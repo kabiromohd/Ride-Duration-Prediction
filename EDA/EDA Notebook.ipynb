{
 "cells": [
  {
   "cell_type": "code",
   "execution_count": 1,
   "id": "ce33d29e",
   "metadata": {},
   "outputs": [],
   "source": [
    "# IMPORTS\n",
    "import warnings\n",
    "warnings.filterwarnings(\"ignore\")\n",
    "\n",
    "import pandas as pd\n",
    "import os\n",
    "import zipfile\n",
    "from zipfile import ZipFile\n",
    "import shutil\n",
    "from pathlib import Path\n",
    "import requests\n",
    "\n",
    "import time\n",
    "from datetime import date"
   ]
  },
  {
   "cell_type": "code",
   "execution_count": 2,
   "id": "ac54d0bb",
   "metadata": {},
   "outputs": [
    {
     "name": "stdout",
     "output_type": "stream",
     "text": [
      " 202403-capitalbikeshare-tripdata.zip.1  'EDA Notebook.ipynb'   \u001b[0m\u001b[01;34mdata\u001b[0m/\r\n"
     ]
    }
   ],
   "source": [
    "ls"
   ]
  },
  {
   "cell_type": "code",
   "execution_count": 23,
   "id": "6f6283de",
   "metadata": {},
   "outputs": [
    {
     "data": {
      "text/plain": [
       "'/home/kabiromohd/final_project1/EDA'"
      ]
     },
     "execution_count": 23,
     "metadata": {},
     "output_type": "execute_result"
    }
   ],
   "source": [
    "os.getcwd()"
   ]
  },
  {
   "cell_type": "code",
   "execution_count": 86,
   "id": "414c217a",
   "metadata": {},
   "outputs": [
    {
     "name": "stdout",
     "output_type": "stream",
     "text": [
      "['202004-capitalbikeshare-tripdata.csv', '202404-capitalbikeshare-tripdata.zip']\n",
      "List of files:\n",
      "202404-capitalbikeshare-tripdata.zip\n",
      "2024\n",
      "4\n",
      "2024\n",
      "5\n",
      "202405-capitalbikeshare-tripdata.zip BBBB\n",
      "/home/kabiromohd/final_project1/EDA/data/202405-capitalbikeshare-tripdata.zip\n"
     ]
    }
   ],
   "source": [
    "import os\n",
    "\n",
    "def find_data_file(search_file):\n",
    "    # Specify the directory path\n",
    "    directory_path = '/home/kabiromohd/final_project1/EDA/data'\n",
    "\n",
    "    # Get the list of files in the directory\n",
    "    files_list = os.listdir(directory_path)\n",
    "\n",
    "    # Filter out directories from the list (optional)\n",
    "    files_list = [f for f in files_list if os.path.isfile(os.path.join(directory_path, f))]\n",
    "    print(files_list)\n",
    "    # Print the list of files\n",
    "    print(\"List of files:\")\n",
    "    for file in files_list:\n",
    "        if search_file in file:\n",
    "            return file\n",
    "    return \"file No found\"\n",
    "        \n",
    "current_file = find_data_file(\"capitalbikeshare-tripdata.zip\")\n",
    "print(current_file)\n",
    "current_year = int(current_file[0:4])\n",
    "current_month = int(current_file[4:6])\n",
    "print(current_year)\n",
    "print(current_month)\n",
    "\n",
    "if current_month < 12:\n",
    "    new_year = current_year\n",
    "    new_month = current_month + 1\n",
    "else:\n",
    "    new_year = current_year + 1\n",
    "    new_month = 1\n",
    "    \n",
    "print(new_year)\n",
    "print(new_month)\n",
    "\n",
    "\n",
    "def local_download(base_url: str, file_name: str) -> Path:\n",
    "    #Download files locally\n",
    "    \n",
    "    dir_path = Path('/home/kabiromohd/final_project1/EDA/data')\n",
    "    filepath = Path(dir_path / file_name)\n",
    "    if not filepath.exists():\n",
    "        url = base_url + file_name\n",
    "        response = requests.get(url, timeout=150)\n",
    "        if not dir_path.exists():\n",
    "            dir_path.mkdir()\n",
    "        with filepath.open('wb') as f:\n",
    "            f.write(response.content)\n",
    "    return filepath\n",
    "\n",
    "base_url = \"https://s3.amazonaws.com/capitalbikeshare-data/\"\n",
    "\n",
    "file_name = f\"{new_year}{new_month:02}-capitalbikeshare-tripdata.zip\"\n",
    "\n",
    "local_zip = local_download(base_url, file_name)\n",
    "\n",
    "dir_path = Path('/home/kabiromohd/final_project1/EDA/data')\n",
    "os.remove(Path(dir_path / current_file))\n",
    "print(file_name, \"BBBB\")\n",
    "\n",
    "directory_path = '/home/kabiromohd/final_project1/EDA/data'\n",
    "\n",
    "file_path = os.path.join(directory_path, file_name)\n",
    "print(file_path)\n",
    "\n",
    "# Extract the zip file\n",
    "with zipfile.ZipFile(file_path, 'r') as zip_ref:\n",
    "    zip_ref.extractall(directory_path)\n",
    "os.remove(file_path)\n",
    "shutil.rmtree(local_zip.parent / \"__MACOSX\", ignore_errors=True)"
   ]
  },
  {
   "cell_type": "code",
   "execution_count": 6,
   "id": "ae3194d7",
   "metadata": {},
   "outputs": [
    {
     "name": "stdout",
     "output_type": "stream",
     "text": [
      "--2024-07-21 15:58:15--  https://s3.amazonaws.com/capitalbikeshare-data/202403-capitalbikeshare-tripdata.zip\n",
      "Resolving s3.amazonaws.com (s3.amazonaws.com)... 52.216.44.224\n",
      "Connecting to s3.amazonaws.com (s3.amazonaws.com)|52.216.44.224|:443... connected.\n",
      "HTTP request sent, awaiting response... 200 OK\n",
      "Length: 16315953 (16M) [application/zip]\n",
      "Saving to: ‘202403-capitalbikeshare-tripdata.zip.1’\n",
      "\n",
      "pitalbikeshare-trip   0%[                    ]  83.50K  3.54KB/s    eta 51m 47s^C\n"
     ]
    }
   ],
   "source": [
    "!wget \"https://s3.amazonaws.com/capitalbikeshare-data/202403-capitalbikeshare-tripdata.zip\""
   ]
  },
  {
   "cell_type": "code",
   "execution_count": null,
   "id": "9cf0ff80",
   "metadata": {},
   "outputs": [
    {
     "name": "stdout",
     "output_type": "stream",
     "text": [
      "--2024-07-21 16:03:12--  https://divvy-tripdata.s3.amazonaws.com/Divvy_Trips_2020_Q1.zip\n",
      "Resolving divvy-tripdata.s3.amazonaws.com (divvy-tripdata.s3.amazonaws.com)... 52.216.109.35\n",
      "Connecting to divvy-tripdata.s3.amazonaws.com (divvy-tripdata.s3.amazonaws.com)|52.216.109.35|:443... connected.\n",
      "HTTP request sent, awaiting response... 200 OK\n",
      "Length: 15920655 (15M) [application/zip]\n",
      "Saving to: ‘Divvy_Trips_2020_Q1.zip.2’\n",
      "\n",
      "                 Di   7%[>                   ]   1.07M  --.-KB/s    eta 22m 40s"
     ]
    }
   ],
   "source": [
    "!wget \"https://divvy-tripdata.s3.amazonaws.com/Divvy_Trips_2020_Q1.zip\""
   ]
  },
  {
   "cell_type": "code",
   "execution_count": 4,
   "id": "1fe1e0b1",
   "metadata": {},
   "outputs": [
    {
     "name": "stdout",
     "output_type": "stream",
     "text": [
      "File not found: /home/kabiromohd/final_project1/data/Divvy_Trips_2020_Q1.zip\n"
     ]
    }
   ],
   "source": [
    "# Unzip the raw data file\n",
    "\n",
    "zip_file_name = 'Divvy_Trips_2020_Q1.zip'\n",
    "directory_path = '/home/kabiromohd/final_project1/data'\n",
    "\n",
    "file_path = os.path.join(directory_path, zip_file_name)\n",
    "\n",
    "# Check if the file exists\n",
    "if not os.path.exists(file_path):\n",
    "    print(f\"File not found: {file_path}\")\n",
    "else:\n",
    "    # Extract the zip file\n",
    "    with zipfile.ZipFile(file_path, 'r') as zip_ref:\n",
    "        zip_ref.extractall(directory_path)"
   ]
  },
  {
   "cell_type": "code",
   "execution_count": 89,
   "id": "fddce26d",
   "metadata": {},
   "outputs": [
    {
     "name": "stdout",
     "output_type": "stream",
     "text": [
      "['202405-capitalbikeshare-tripdata.csv']\n",
      "List of files:\n",
      "/home/kabiromohd/final_project1/EDA/data/202405-capitalbikeshare-tripdata.csv\n"
     ]
    },
    {
     "data": {
      "text/html": [
       "<div>\n",
       "<style scoped>\n",
       "    .dataframe tbody tr th:only-of-type {\n",
       "        vertical-align: middle;\n",
       "    }\n",
       "\n",
       "    .dataframe tbody tr th {\n",
       "        vertical-align: top;\n",
       "    }\n",
       "\n",
       "    .dataframe thead th {\n",
       "        text-align: right;\n",
       "    }\n",
       "</style>\n",
       "<table border=\"1\" class=\"dataframe\">\n",
       "  <thead>\n",
       "    <tr style=\"text-align: right;\">\n",
       "      <th></th>\n",
       "      <th>ride_id</th>\n",
       "      <th>rideable_type</th>\n",
       "      <th>started_at</th>\n",
       "      <th>ended_at</th>\n",
       "      <th>start_station_name</th>\n",
       "      <th>start_station_id</th>\n",
       "      <th>end_station_name</th>\n",
       "      <th>end_station_id</th>\n",
       "      <th>start_lat</th>\n",
       "      <th>start_lng</th>\n",
       "      <th>end_lat</th>\n",
       "      <th>end_lng</th>\n",
       "      <th>member_casual</th>\n",
       "    </tr>\n",
       "  </thead>\n",
       "  <tbody>\n",
       "    <tr>\n",
       "      <th>0</th>\n",
       "      <td>028CB30D63626320</td>\n",
       "      <td>classic_bike</td>\n",
       "      <td>2024-05-23 16:07:47</td>\n",
       "      <td>2024-05-23 16:20:22</td>\n",
       "      <td>Grant Circle</td>\n",
       "      <td>31421.0</td>\n",
       "      <td>10th &amp; Quincy St NE / Turkey Thicket Rec</td>\n",
       "      <td>31541.0</td>\n",
       "      <td>38.942025</td>\n",
       "      <td>-77.018221</td>\n",
       "      <td>38.937849</td>\n",
       "      <td>-76.993509</td>\n",
       "      <td>casual</td>\n",
       "    </tr>\n",
       "    <tr>\n",
       "      <th>1</th>\n",
       "      <td>33D6F7F8951D5D67</td>\n",
       "      <td>electric_bike</td>\n",
       "      <td>2024-05-24 09:19:05</td>\n",
       "      <td>2024-05-24 10:02:29</td>\n",
       "      <td>W Columbia St &amp; N Washington St</td>\n",
       "      <td>32609.0</td>\n",
       "      <td>S Glebe Rd &amp; Potomac Ave</td>\n",
       "      <td>31010.0</td>\n",
       "      <td>38.885602</td>\n",
       "      <td>-77.166884</td>\n",
       "      <td>38.842600</td>\n",
       "      <td>-77.050200</td>\n",
       "      <td>casual</td>\n",
       "    </tr>\n",
       "    <tr>\n",
       "      <th>2</th>\n",
       "      <td>BDDEFEBB8770EFF2</td>\n",
       "      <td>classic_bike</td>\n",
       "      <td>2024-05-09 08:54:14</td>\n",
       "      <td>2024-05-09 08:59:16</td>\n",
       "      <td>1st &amp; L St NW</td>\n",
       "      <td>31677.0</td>\n",
       "      <td>New Jersey Ave &amp; F St NW</td>\n",
       "      <td>31655.0</td>\n",
       "      <td>38.903819</td>\n",
       "      <td>-77.011987</td>\n",
       "      <td>38.897108</td>\n",
       "      <td>-77.011616</td>\n",
       "      <td>member</td>\n",
       "    </tr>\n",
       "    <tr>\n",
       "      <th>3</th>\n",
       "      <td>31C46CFE02542EF5</td>\n",
       "      <td>classic_bike</td>\n",
       "      <td>2024-05-16 13:48:38</td>\n",
       "      <td>2024-05-16 14:04:43</td>\n",
       "      <td>North Capitol &amp; R St NE</td>\n",
       "      <td>31527.0</td>\n",
       "      <td>10th &amp; Quincy St NE / Turkey Thicket Rec</td>\n",
       "      <td>31541.0</td>\n",
       "      <td>38.912560</td>\n",
       "      <td>-77.008775</td>\n",
       "      <td>38.937849</td>\n",
       "      <td>-76.993509</td>\n",
       "      <td>member</td>\n",
       "    </tr>\n",
       "    <tr>\n",
       "      <th>4</th>\n",
       "      <td>3DB767AB9DF69BD7</td>\n",
       "      <td>electric_bike</td>\n",
       "      <td>2024-05-22 08:27:00</td>\n",
       "      <td>2024-05-22 08:38:24</td>\n",
       "      <td>Eastern Market / 7th &amp; North Carolina Ave SE</td>\n",
       "      <td>31610.0</td>\n",
       "      <td>New Jersey Ave &amp; F St NW</td>\n",
       "      <td>31655.0</td>\n",
       "      <td>38.887016</td>\n",
       "      <td>-76.996802</td>\n",
       "      <td>38.897108</td>\n",
       "      <td>-77.011616</td>\n",
       "      <td>member</td>\n",
       "    </tr>\n",
       "  </tbody>\n",
       "</table>\n",
       "</div>"
      ],
      "text/plain": [
       "            ride_id  rideable_type           started_at             ended_at  \\\n",
       "0  028CB30D63626320   classic_bike  2024-05-23 16:07:47  2024-05-23 16:20:22   \n",
       "1  33D6F7F8951D5D67  electric_bike  2024-05-24 09:19:05  2024-05-24 10:02:29   \n",
       "2  BDDEFEBB8770EFF2   classic_bike  2024-05-09 08:54:14  2024-05-09 08:59:16   \n",
       "3  31C46CFE02542EF5   classic_bike  2024-05-16 13:48:38  2024-05-16 14:04:43   \n",
       "4  3DB767AB9DF69BD7  electric_bike  2024-05-22 08:27:00  2024-05-22 08:38:24   \n",
       "\n",
       "                             start_station_name  start_station_id  \\\n",
       "0                                  Grant Circle           31421.0   \n",
       "1               W Columbia St & N Washington St           32609.0   \n",
       "2                                 1st & L St NW           31677.0   \n",
       "3                       North Capitol & R St NE           31527.0   \n",
       "4  Eastern Market / 7th & North Carolina Ave SE           31610.0   \n",
       "\n",
       "                           end_station_name  end_station_id  start_lat  \\\n",
       "0  10th & Quincy St NE / Turkey Thicket Rec         31541.0  38.942025   \n",
       "1                  S Glebe Rd & Potomac Ave         31010.0  38.885602   \n",
       "2                  New Jersey Ave & F St NW         31655.0  38.903819   \n",
       "3  10th & Quincy St NE / Turkey Thicket Rec         31541.0  38.912560   \n",
       "4                  New Jersey Ave & F St NW         31655.0  38.887016   \n",
       "\n",
       "   start_lng    end_lat    end_lng member_casual  \n",
       "0 -77.018221  38.937849 -76.993509        casual  \n",
       "1 -77.166884  38.842600 -77.050200        casual  \n",
       "2 -77.011987  38.897108 -77.011616        member  \n",
       "3 -77.008775  38.937849 -76.993509        member  \n",
       "4 -76.996802  38.897108 -77.011616        member  "
      ]
     },
     "execution_count": 89,
     "metadata": {},
     "output_type": "execute_result"
    }
   ],
   "source": [
    "filename = find_data_file(\"capitalbikeshare-tripdata.csv\")\n",
    "dir_path = Path('/home/kabiromohd/final_project1/EDA/data')\n",
    "filepath = Path(dir_path / filename)\n",
    "\n",
    "#file_path = os.path.join(directory_path, file_name)\n",
    "print(filepath)\n",
    "df = pd.read_csv(filepath)\n",
    "df.head()"
   ]
  },
  {
   "cell_type": "code",
   "execution_count": 11,
   "id": "65621e6f",
   "metadata": {},
   "outputs": [
    {
     "data": {
      "text/html": [
       "<div>\n",
       "<style scoped>\n",
       "    .dataframe tbody tr th:only-of-type {\n",
       "        vertical-align: middle;\n",
       "    }\n",
       "\n",
       "    .dataframe tbody tr th {\n",
       "        vertical-align: top;\n",
       "    }\n",
       "\n",
       "    .dataframe thead th {\n",
       "        text-align: right;\n",
       "    }\n",
       "</style>\n",
       "<table border=\"1\" class=\"dataframe\">\n",
       "  <thead>\n",
       "    <tr style=\"text-align: right;\">\n",
       "      <th></th>\n",
       "      <th>ride_id</th>\n",
       "      <th>rideable_type</th>\n",
       "      <th>started_at</th>\n",
       "      <th>ended_at</th>\n",
       "      <th>start_station_name</th>\n",
       "      <th>start_station_id</th>\n",
       "      <th>end_station_name</th>\n",
       "      <th>end_station_id</th>\n",
       "      <th>start_lat</th>\n",
       "      <th>start_lng</th>\n",
       "      <th>end_lat</th>\n",
       "      <th>end_lng</th>\n",
       "      <th>member_casual</th>\n",
       "    </tr>\n",
       "  </thead>\n",
       "  <tbody>\n",
       "    <tr>\n",
       "      <th>0</th>\n",
       "      <td>EACB19130B0CDA4A</td>\n",
       "      <td>docked_bike</td>\n",
       "      <td>2020-01-21 20:06:59</td>\n",
       "      <td>2020-01-21 20:14:30</td>\n",
       "      <td>Western Ave &amp; Leland Ave</td>\n",
       "      <td>239</td>\n",
       "      <td>Clark St &amp; Leland Ave</td>\n",
       "      <td>326.0</td>\n",
       "      <td>41.9665</td>\n",
       "      <td>-87.6884</td>\n",
       "      <td>41.9671</td>\n",
       "      <td>-87.6674</td>\n",
       "      <td>member</td>\n",
       "    </tr>\n",
       "    <tr>\n",
       "      <th>1</th>\n",
       "      <td>8FED874C809DC021</td>\n",
       "      <td>docked_bike</td>\n",
       "      <td>2020-01-30 14:22:39</td>\n",
       "      <td>2020-01-30 14:26:22</td>\n",
       "      <td>Clark St &amp; Montrose Ave</td>\n",
       "      <td>234</td>\n",
       "      <td>Southport Ave &amp; Irving Park Rd</td>\n",
       "      <td>318.0</td>\n",
       "      <td>41.9616</td>\n",
       "      <td>-87.6660</td>\n",
       "      <td>41.9542</td>\n",
       "      <td>-87.6644</td>\n",
       "      <td>member</td>\n",
       "    </tr>\n",
       "    <tr>\n",
       "      <th>2</th>\n",
       "      <td>789F3C21E472CA96</td>\n",
       "      <td>docked_bike</td>\n",
       "      <td>2020-01-09 19:29:26</td>\n",
       "      <td>2020-01-09 19:32:17</td>\n",
       "      <td>Broadway &amp; Belmont Ave</td>\n",
       "      <td>296</td>\n",
       "      <td>Wilton Ave &amp; Belmont Ave</td>\n",
       "      <td>117.0</td>\n",
       "      <td>41.9401</td>\n",
       "      <td>-87.6455</td>\n",
       "      <td>41.9402</td>\n",
       "      <td>-87.6530</td>\n",
       "      <td>member</td>\n",
       "    </tr>\n",
       "    <tr>\n",
       "      <th>3</th>\n",
       "      <td>C9A388DAC6ABF313</td>\n",
       "      <td>docked_bike</td>\n",
       "      <td>2020-01-06 16:17:07</td>\n",
       "      <td>2020-01-06 16:25:56</td>\n",
       "      <td>Clark St &amp; Randolph St</td>\n",
       "      <td>51</td>\n",
       "      <td>Fairbanks Ct &amp; Grand Ave</td>\n",
       "      <td>24.0</td>\n",
       "      <td>41.8846</td>\n",
       "      <td>-87.6319</td>\n",
       "      <td>41.8918</td>\n",
       "      <td>-87.6206</td>\n",
       "      <td>member</td>\n",
       "    </tr>\n",
       "    <tr>\n",
       "      <th>4</th>\n",
       "      <td>943BC3CBECCFD662</td>\n",
       "      <td>docked_bike</td>\n",
       "      <td>2020-01-30 08:37:16</td>\n",
       "      <td>2020-01-30 08:42:48</td>\n",
       "      <td>Clinton St &amp; Lake St</td>\n",
       "      <td>66</td>\n",
       "      <td>Wells St &amp; Hubbard St</td>\n",
       "      <td>212.0</td>\n",
       "      <td>41.8856</td>\n",
       "      <td>-87.6418</td>\n",
       "      <td>41.8899</td>\n",
       "      <td>-87.6343</td>\n",
       "      <td>member</td>\n",
       "    </tr>\n",
       "  </tbody>\n",
       "</table>\n",
       "</div>"
      ],
      "text/plain": [
       "            ride_id rideable_type           started_at             ended_at  \\\n",
       "0  EACB19130B0CDA4A   docked_bike  2020-01-21 20:06:59  2020-01-21 20:14:30   \n",
       "1  8FED874C809DC021   docked_bike  2020-01-30 14:22:39  2020-01-30 14:26:22   \n",
       "2  789F3C21E472CA96   docked_bike  2020-01-09 19:29:26  2020-01-09 19:32:17   \n",
       "3  C9A388DAC6ABF313   docked_bike  2020-01-06 16:17:07  2020-01-06 16:25:56   \n",
       "4  943BC3CBECCFD662   docked_bike  2020-01-30 08:37:16  2020-01-30 08:42:48   \n",
       "\n",
       "         start_station_name  start_station_id                end_station_name  \\\n",
       "0  Western Ave & Leland Ave               239           Clark St & Leland Ave   \n",
       "1   Clark St & Montrose Ave               234  Southport Ave & Irving Park Rd   \n",
       "2    Broadway & Belmont Ave               296        Wilton Ave & Belmont Ave   \n",
       "3    Clark St & Randolph St                51        Fairbanks Ct & Grand Ave   \n",
       "4      Clinton St & Lake St                66           Wells St & Hubbard St   \n",
       "\n",
       "   end_station_id  start_lat  start_lng  end_lat  end_lng member_casual  \n",
       "0           326.0    41.9665   -87.6884  41.9671 -87.6674        member  \n",
       "1           318.0    41.9616   -87.6660  41.9542 -87.6644        member  \n",
       "2           117.0    41.9401   -87.6455  41.9402 -87.6530        member  \n",
       "3            24.0    41.8846   -87.6319  41.8918 -87.6206        member  \n",
       "4           212.0    41.8856   -87.6418  41.8899 -87.6343        member  "
      ]
     },
     "execution_count": 11,
     "metadata": {},
     "output_type": "execute_result"
    }
   ],
   "source": [
    "df.head()"
   ]
  },
  {
   "cell_type": "code",
   "execution_count": 12,
   "id": "0419f588",
   "metadata": {},
   "outputs": [
    {
     "data": {
      "text/plain": [
       "ride_id               0\n",
       "rideable_type         0\n",
       "started_at            0\n",
       "ended_at              0\n",
       "start_station_name    0\n",
       "start_station_id      0\n",
       "end_station_name      1\n",
       "end_station_id        1\n",
       "start_lat             0\n",
       "start_lng             0\n",
       "end_lat               1\n",
       "end_lng               1\n",
       "member_casual         0\n",
       "dtype: int64"
      ]
     },
     "execution_count": 12,
     "metadata": {},
     "output_type": "execute_result"
    }
   ],
   "source": [
    "df.isnull().sum()"
   ]
  },
  {
   "cell_type": "code",
   "execution_count": 13,
   "id": "010971e9",
   "metadata": {},
   "outputs": [
    {
     "data": {
      "text/plain": [
       "array(['docked_bike'], dtype=object)"
      ]
     },
     "execution_count": 13,
     "metadata": {},
     "output_type": "execute_result"
    }
   ],
   "source": [
    "df.rideable_type.unique()"
   ]
  },
  {
   "cell_type": "code",
   "execution_count": 14,
   "id": "867ec954",
   "metadata": {},
   "outputs": [
    {
     "name": "stdout",
     "output_type": "stream",
     "text": [
      "<class 'pandas.core.frame.DataFrame'>\n",
      "RangeIndex: 426887 entries, 0 to 426886\n",
      "Data columns (total 13 columns):\n",
      " #   Column              Non-Null Count   Dtype  \n",
      "---  ------              --------------   -----  \n",
      " 0   ride_id             426887 non-null  object \n",
      " 1   rideable_type       426887 non-null  object \n",
      " 2   started_at          426887 non-null  object \n",
      " 3   ended_at            426887 non-null  object \n",
      " 4   start_station_name  426887 non-null  object \n",
      " 5   start_station_id    426887 non-null  int64  \n",
      " 6   end_station_name    426886 non-null  object \n",
      " 7   end_station_id      426886 non-null  float64\n",
      " 8   start_lat           426887 non-null  float64\n",
      " 9   start_lng           426887 non-null  float64\n",
      " 10  end_lat             426886 non-null  float64\n",
      " 11  end_lng             426886 non-null  float64\n",
      " 12  member_casual       426887 non-null  object \n",
      "dtypes: float64(5), int64(1), object(7)\n",
      "memory usage: 42.3+ MB\n"
     ]
    }
   ],
   "source": [
    "df.info()"
   ]
  },
  {
   "cell_type": "code",
   "execution_count": 19,
   "id": "f1bf5717",
   "metadata": {},
   "outputs": [],
   "source": []
  },
  {
   "cell_type": "code",
   "execution_count": 20,
   "id": "58e3eedb",
   "metadata": {},
   "outputs": [
    {
     "name": "stdout",
     "output_type": "stream",
     "text": [
      "<class 'pandas.core.frame.DataFrame'>\n",
      "RangeIndex: 426887 entries, 0 to 426886\n",
      "Data columns (total 13 columns):\n",
      " #   Column              Non-Null Count   Dtype         \n",
      "---  ------              --------------   -----         \n",
      " 0   ride_id             426887 non-null  object        \n",
      " 1   rideable_type       426887 non-null  object        \n",
      " 2   started_at          426887 non-null  datetime64[ns]\n",
      " 3   ended_at            426887 non-null  datetime64[ns]\n",
      " 4   start_station_name  426887 non-null  object        \n",
      " 5   start_station_id    426887 non-null  int64         \n",
      " 6   end_station_name    426886 non-null  object        \n",
      " 7   end_station_id      426886 non-null  float64       \n",
      " 8   start_lat           426887 non-null  float64       \n",
      " 9   start_lng           426887 non-null  float64       \n",
      " 10  end_lat             426886 non-null  float64       \n",
      " 11  end_lng             426886 non-null  float64       \n",
      " 12  member_casual       426887 non-null  object        \n",
      "dtypes: datetime64[ns](2), float64(5), int64(1), object(5)\n",
      "memory usage: 42.3+ MB\n"
     ]
    }
   ],
   "source": [
    "df.info()"
   ]
  },
  {
   "cell_type": "code",
   "execution_count": 5,
   "id": "592afbb9",
   "metadata": {},
   "outputs": [
    {
     "name": "stdout",
     "output_type": "stream",
     "text": [
      "[1 2 3]\n",
      "[1 2 3]\n",
      "[1 2 3]\n"
     ]
    }
   ],
   "source": [
    "def extract_data_for_month(df, date_column, month):\n",
    "    #Change format to datetime\n",
    "    df['started_at'] = pd.to_datetime(df['started_at'], errors='coerce')\n",
    "    df['ended_at'] = pd.to_datetime(df['ended_at'], errors='coerce')\n",
    "    \n",
    "    # Ensure the date_column is in datetime format\n",
    "    df[date_column] = pd.to_datetime(df[date_column])\n",
    "    \n",
    "    month_u = df['started_at'].dt.month.unique()\n",
    "    for month in month_u:\n",
    "        nam = 'Unknown_%s' % c\n",
    "        print(nam)\n",
    "    print(month_u)\n",
    "\n",
    "    # Filter DataFrame for the specified month\n",
    "    filtered_df = df[df[date_column].dt.month == month]\n",
    "\n",
    "    return filtered_df\n",
    "\n",
    "\n",
    "jan_df = extract_data_for_month(df, 'started_at', 1)\n",
    "feb_df = extract_data_for_month(df, 'started_at', 2)\n",
    "mar_df = extract_data_for_month(df, 'started_at', 3)\n"
   ]
  },
  {
   "cell_type": "code",
   "execution_count": null,
   "id": "0d38e6fd",
   "metadata": {},
   "outputs": [],
   "source": [
    "df."
   ]
  },
  {
   "cell_type": "code",
   "execution_count": 5,
   "id": "d0b4de37",
   "metadata": {},
   "outputs": [
    {
     "data": {
      "text/plain": [
       "(143418, 13)"
      ]
     },
     "execution_count": 5,
     "metadata": {},
     "output_type": "execute_result"
    }
   ],
   "source": [
    "jan_df.shape\n",
    "feb_df.shape\n",
    "mar_df.shape"
   ]
  },
  {
   "cell_type": "code",
   "execution_count": 6,
   "id": "7e8c184c",
   "metadata": {},
   "outputs": [
    {
     "data": {
      "text/plain": [
       "426887"
      ]
     },
     "execution_count": 6,
     "metadata": {},
     "output_type": "execute_result"
    }
   ],
   "source": [
    "jan_df.shape[0] + feb_df.shape[0] + mar_df.shape[0]"
   ]
  },
  {
   "cell_type": "code",
   "execution_count": null,
   "id": "c4ce8c2d",
   "metadata": {},
   "outputs": [],
   "source": []
  },
  {
   "cell_type": "code",
   "execution_count": 11,
   "id": "f39e21f7",
   "metadata": {},
   "outputs": [],
   "source": [
    "def preprocess_data(df):\n",
    "\n",
    "    df['duration'] = df.ended_at - df.started_at\n",
    "    df.duration = df.duration.apply(lambda td: td.total_seconds() / 60)\n",
    "\n",
    "    #df = df[(df.duration >= 1) & (df.duration <= 60)]\n",
    "\n",
    "    categorical = ['start_station_id', 'end_station_id']\n",
    "    df[categorical] = df[categorical].astype(str)\n",
    "    \n",
    "    #Fill missing values with \"0\"\n",
    "    df.fillna(0, inplace = True)\n",
    "    \n",
    "    return df"
   ]
  },
  {
   "cell_type": "code",
   "execution_count": 12,
   "id": "f22b94f1",
   "metadata": {},
   "outputs": [],
   "source": [
    "from sklearn.feature_extraction import DictVectorizer\n",
    "from sklearn.linear_model import LinearRegression\n",
    "from sklearn.pipeline import make_pipeline\n",
    "\n",
    "def model_train(df):\n",
    "        \n",
    "    categorical = ['ride_id', 'start_station_id', 'end_station_id']\n",
    "\n",
    "    train_dicts = df[categorical].to_dict(orient='records')\n",
    "\n",
    "    X_train = train_dicts\n",
    "    \n",
    "    target = 'duration'\n",
    "    y_train = df[target].values\n",
    "\n",
    "    # Create Pipeline\n",
    "    pipeline = make_pipeline(\n",
    "        DictVectorizer(),\n",
    "        LinearRegression()\n",
    "    )\n",
    "    \n",
    "    pipeline.fit(X_train, y_train)\n",
    "    \n",
    "    return pipeline"
   ]
  },
  {
   "cell_type": "code",
   "execution_count": 13,
   "id": "533f3aec",
   "metadata": {},
   "outputs": [],
   "source": [
    "preproc_df = preprocess_data(jan_df)\n",
    "dv_model = model_train(preproc_df)"
   ]
  },
  {
   "cell_type": "code",
   "execution_count": 14,
   "id": "e71a7a55",
   "metadata": {},
   "outputs": [
    {
     "data": {
      "text/plain": [
       "Pipeline(steps=[('dictvectorizer', DictVectorizer()),\n",
       "                ('linearregression', LinearRegression())])"
      ]
     },
     "execution_count": 14,
     "metadata": {},
     "output_type": "execute_result"
    }
   ],
   "source": [
    "dv_model"
   ]
  },
  {
   "cell_type": "code",
   "execution_count": 16,
   "id": "1efef9ad",
   "metadata": {},
   "outputs": [
    {
     "data": {
      "text/plain": [
       "ride_id                       EACB19130B0CDA4A\n",
       "rideable_type                      docked_bike\n",
       "started_at                 2020-01-21 20:06:59\n",
       "ended_at                   2020-01-21 20:14:30\n",
       "start_station_name    Western Ave & Leland Ave\n",
       "start_station_id                           239\n",
       "end_station_name         Clark St & Leland Ave\n",
       "end_station_id                           326.0\n",
       "start_lat                              41.9665\n",
       "start_lng                             -87.6884\n",
       "end_lat                                41.9671\n",
       "end_lng                               -87.6674\n",
       "member_casual                           member\n",
       "duration                              7.516667\n",
       "Name: 0, dtype: object"
      ]
     },
     "execution_count": 16,
     "metadata": {},
     "output_type": "execute_result"
    }
   ],
   "source": [
    "preproc_df.iloc[0, 0:14]"
   ]
  },
  {
   "cell_type": "code",
   "execution_count": 17,
   "id": "0f5b84b8",
   "metadata": {},
   "outputs": [],
   "source": [
    "test_df = {\n",
    "    \"ride_id\": \"EACB19130B0CDA4A\",\n",
    "    \"start_station_id\": \"239\",\n",
    "    \"end_station_id\": \"326.0\"    \n",
    "}"
   ]
  },
  {
   "cell_type": "code",
   "execution_count": 19,
   "id": "b8abb349",
   "metadata": {},
   "outputs": [
    {
     "name": "stdout",
     "output_type": "stream",
     "text": [
      "[7.51708829]\n"
     ]
    }
   ],
   "source": [
    "pred = dv_model.predict(test_df)\n",
    "print(pred)"
   ]
  },
  {
   "cell_type": "code",
   "execution_count": null,
   "id": "5cce2423",
   "metadata": {},
   "outputs": [],
   "source": [
    "# Log Model to MLflow\n",
    "with mlflow.start_run():\n",
    "    mlflow.log_param(\"model_type\", \"LinearRegression\")\n",
    "    mlflow.log_metric(\"mse\", mse)\n",
    "    mlflow.sklearn.log_model(pipeline, \"model\")\n",
    "\n",
    "    print(f\"Logged model with MSE: {mse}\")\n"
   ]
  },
  {
   "cell_type": "code",
   "execution_count": null,
   "id": "96b21658",
   "metadata": {},
   "outputs": [],
   "source": []
  }
 ],
 "metadata": {
  "kernelspec": {
   "display_name": "Python 3 (ipykernel)",
   "language": "python",
   "name": "python3"
  },
  "language_info": {
   "codemirror_mode": {
    "name": "ipython",
    "version": 3
   },
   "file_extension": ".py",
   "mimetype": "text/x-python",
   "name": "python",
   "nbconvert_exporter": "python",
   "pygments_lexer": "ipython3",
   "version": "3.9.12"
  }
 },
 "nbformat": 4,
 "nbformat_minor": 5
}
